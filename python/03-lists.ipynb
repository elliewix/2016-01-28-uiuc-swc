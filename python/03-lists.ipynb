{
 "cells": [
  {
   "cell_type": "markdown",
   "metadata": {},
   "source": [
    "---\n",
    "layout: page\n",
    "title: Programming with Python\n",
    "subtitle: Storing Multiple Values in Lists\n",
    "minutes: 30\n",
    "---\n",
    "> ## Learning Objectives {.objectives}\n",
    ">\n",
    "> *   Explain what a list is.\n",
    "> *   Create and index lists of simple values.\n",
    "\n",
    "Just as a `for` loop is a way to do operations many times,\n",
    "a list is a way to store many values.\n",
    "Unlike NumPy arrays,\n",
    "lists are built into the language (so we don't have to load a library\n",
    "to use them).\n",
    "We create a list by putting values inside square brackets:"
   ]
  },
  {
   "cell_type": "code",
   "execution_count": null,
   "metadata": {
    "attributes": {
     "classes": [
      " {.python"
     ],
     "id": ""
    }
   },
   "outputs": [],
   "source": [
    "odds = [1, 3, 5, 7]\n",
    "print 'odds are:', odds"
   ]
  },
  {
   "cell_type": "code",
   "execution_count": null,
   "metadata": {
    "attributes": {
     "classes": [
      " {.output"
     ],
     "id": ""
    }
   },
   "outputs": [],
   "source": [
    "odds are: [1, 3, 5, 7]"
   ]
  },
  {
   "cell_type": "markdown",
   "metadata": {},
   "source": [
    "We select individual elements from lists by indexing them:"
   ]
  },
  {
   "cell_type": "code",
   "execution_count": null,
   "metadata": {
    "attributes": {
     "classes": [
      " {.python"
     ],
     "id": ""
    }
   },
   "outputs": [],
   "source": [
    "print 'first and last:', odds[0], odds[-1]"
   ]
  },
  {
   "cell_type": "code",
   "execution_count": null,
   "metadata": {
    "attributes": {
     "classes": [
      " {.output"
     ],
     "id": ""
    }
   },
   "outputs": [],
   "source": [
    "first and last: 1 7"
   ]
  },
  {
   "cell_type": "markdown",
   "metadata": {},
   "source": [
    "and if we loop over a list,\n",
    "the loop variable is assigned elements one at a time:"
   ]
  },
  {
   "cell_type": "code",
   "execution_count": null,
   "metadata": {
    "attributes": {
     "classes": [
      " {.python"
     ],
     "id": ""
    }
   },
   "outputs": [],
   "source": [
    "for number in odds:\n",
    "    print number"
   ]
  },
  {
   "cell_type": "code",
   "execution_count": null,
   "metadata": {
    "attributes": {
     "classes": [
      " {.output"
     ],
     "id": ""
    }
   },
   "outputs": [],
   "source": [
    "1\n",
    "3\n",
    "5\n",
    "7"
   ]
  },
  {
   "cell_type": "markdown",
   "metadata": {},
   "source": [
    "There is one important difference between lists and strings:\n",
    "we can change the values in a list,\n",
    "but we cannot change the characters in a string.\n",
    "For example:"
   ]
  },
  {
   "cell_type": "code",
   "execution_count": null,
   "metadata": {
    "attributes": {
     "classes": [
      " {.python"
     ],
     "id": ""
    }
   },
   "outputs": [],
   "source": [
    "names = ['Newton', 'Darwing', 'Turing'] # typo in Darwin's name\n",
    "print 'names is originally:', names\n",
    "names[1] = 'Darwin' # correct the name\n",
    "print 'final value of names:', names"
   ]
  },
  {
   "cell_type": "code",
   "execution_count": null,
   "metadata": {
    "attributes": {
     "classes": [
      " {.output"
     ],
     "id": ""
    }
   },
   "outputs": [],
   "source": [
    "names is originally: ['Newton', 'Darwing', 'Turing']\n",
    "final value of names: ['Newton', 'Darwin', 'Turing']"
   ]
  },
  {
   "cell_type": "markdown",
   "metadata": {},
   "source": [
    "works, but:"
   ]
  },
  {
   "cell_type": "code",
   "execution_count": null,
   "metadata": {
    "attributes": {
     "classes": [
      " {.python"
     ],
     "id": ""
    }
   },
   "outputs": [],
   "source": [
    "name = 'Bell'\n",
    "name[0] = 'b'"
   ]
  },
  {
   "cell_type": "code",
   "execution_count": null,
   "metadata": {
    "attributes": {
     "classes": [
      " {.error"
     ],
     "id": ""
    }
   },
   "outputs": [],
   "source": [
    "---------------------------------------------------------------------------\n",
    "TypeError                                 Traceback (most recent call last)\n",
    "<ipython-input-8-220df48aeb2e> in <module>()\n",
    "      1 name = 'Bell'\n",
    "----> 2 name[0] = 'b'\n",
    "\n",
    "TypeError: 'str' object does not support item assignment"
   ]
  },
  {
   "cell_type": "markdown",
   "metadata": {},
   "source": [
    "does not.\n",
    "\n",
    "> ## Ch-Ch-Ch-Changes {.callout}\n",
    ">\n",
    "> Data that can be changed is called [mutable](reference.html#mutable),\n",
    "> while data that cannot be changed is called [immutable](reference.html#immutable).\n",
    "> Like strings,\n",
    "> numbers are immutable:\n",
    "> there's no way to make the number 0 have the value 1 or vice versa.\n",
    "> Lists and arrays,\n",
    "> on the other hand,\n",
    "> are mutable:\n",
    "> both can be modified after they have been created.\n",
    ">\n",
    "> Programs that modify data in place can be harder to understand than ones that don't\n",
    "> because readers may have to mentally sum up many lines of code\n",
    "> in order to figure out what the value of something actually is.\n",
    "> On the other hand,\n",
    "> programs that modify data in place instead of creating copies that are almost identical to the original\n",
    "> every time they want to make a small change\n",
    "> are much more efficient. You should consider both aspects when writing code.\n",
    "\n",
    "There are many ways to change the contents of lists besides assigning new values to\n",
    "individual elements:"
   ]
  },
  {
   "cell_type": "code",
   "execution_count": null,
   "metadata": {
    "attributes": {
     "classes": [
      " {.python"
     ],
     "id": ""
    }
   },
   "outputs": [],
   "source": [
    "odds.append(11)\n",
    "print 'odds after adding a value:', odds"
   ]
  },
  {
   "cell_type": "code",
   "execution_count": null,
   "metadata": {
    "attributes": {
     "classes": [
      " {.output"
     ],
     "id": ""
    }
   },
   "outputs": [],
   "source": [
    "[1, 3, 5, 7, 11]"
   ]
  },
  {
   "cell_type": "code",
   "execution_count": null,
   "metadata": {
    "attributes": {
     "classes": [
      " {.python"
     ],
     "id": ""
    }
   },
   "outputs": [],
   "source": [
    "del odds[0]\n",
    "print 'odds after removing the first element:', odds"
   ]
  },
  {
   "cell_type": "code",
   "execution_count": null,
   "metadata": {
    "attributes": {
     "classes": [
      " {.output"
     ],
     "id": ""
    }
   },
   "outputs": [],
   "source": [
    "[3, 5, 7, 11]"
   ]
  },
  {
   "cell_type": "code",
   "execution_count": null,
   "metadata": {
    "attributes": {
     "classes": [
      " {.python"
     ],
     "id": ""
    }
   },
   "outputs": [],
   "source": [
    "odds.reverse()\n",
    "print 'odds after reversing:', odds"
   ]
  },
  {
   "cell_type": "code",
   "execution_count": null,
   "metadata": {
    "attributes": {
     "classes": [
      " {.output"
     ],
     "id": ""
    }
   },
   "outputs": [],
   "source": [
    "[11, 7, 5, 3]"
   ]
  }
 ],
 "metadata": {},
 "nbformat": 4,
 "nbformat_minor": 0
}
