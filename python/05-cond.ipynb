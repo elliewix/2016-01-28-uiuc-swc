{
 "cells": [
  {
   "cell_type": "markdown",
   "metadata": {},
   "source": [
    "---\n",
    "layout: page\n",
    "title: Programming with Python\n",
    "subtitle: Making Choices\n",
    "minutes: 30\n",
    "---\n",
    "> ## Learning Objectives {.objectives}\n",
    ">\n",
    "> *   Explain the similarities and differences between tuples and lists.\n",
    "> *   Write conditional statements including `if`, `elif`, and `else` branches.\n",
    "> *   Correctly evaluate expressions containing `and` and `or`.\n",
    "\n",
    "In our last lesson, we discovered something suspicious was going on\n",
    "in our inflammation data by drawing some plots.\n",
    "How can we use Python to automatically recognize the different features we saw,\n",
    "and take a different action for each? In this lesson, we'll learn how to write code that\n",
    "runs only when certain conditions are true.\n",
    "\n",
    "## Conditionals\n",
    "\n",
    "We can ask Python to take different actions, depending on a condition, with an if statement:"
   ]
  },
  {
   "cell_type": "code",
   "execution_count": null,
   "metadata": {
    "attributes": {
     "classes": [
      " {.python"
     ],
     "id": ""
    }
   },
   "outputs": [],
   "source": [
    "num = 37\n",
    "if num > 100:\n",
    "    print 'greater'\n",
    "else:\n",
    "    print 'not greater'\n",
    "print 'done'"
   ]
  },
  {
   "cell_type": "code",
   "execution_count": null,
   "metadata": {
    "attributes": {
     "classes": [
      " {.output"
     ],
     "id": ""
    }
   },
   "outputs": [],
   "source": [
    "not greater\n",
    "done\n"
   ]
  },
  {
   "cell_type": "markdown",
   "metadata": {},
   "source": [
    "The second line of this code uses the keyword `if` to tell Python that we want to make a choice.\n",
    "If the test that follows the `if` statement is true,\n",
    "the body of the `if`\n",
    "(i.e., the lines indented underneath it) are executed.\n",
    "If the test is false,\n",
    "the body of the `else` is executed instead.\n",
    "Only one or the other is ever executed:\n",
    "\n",
    "![Executing a Conditional](fig/python-flowchart-conditional.svg)\\\n",
    "\n",
    "Conditional statements don't have to include an `else`.\n",
    "If there isn't one,\n",
    "Python simply does nothing if the test is false:"
   ]
  },
  {
   "cell_type": "code",
   "execution_count": null,
   "metadata": {
    "attributes": {
     "classes": [
      " {.python"
     ],
     "id": ""
    }
   },
   "outputs": [],
   "source": [
    "num = 53\n",
    "print 'before conditional...'\n",
    "if num > 100:\n",
    "    print '53 is greater than 100'\n",
    "print '...after conditional'"
   ]
  },
  {
   "cell_type": "code",
   "execution_count": null,
   "metadata": {
    "attributes": {
     "classes": [
      " {.output"
     ],
     "id": ""
    }
   },
   "outputs": [],
   "source": [
    "before conditional...\n",
    "...after conditional"
   ]
  },
  {
   "cell_type": "markdown",
   "metadata": {},
   "source": [
    "We can also chain several tests together using `elif`,\n",
    "which is short for \"else if\".\n",
    "The following Python code uses `elif` to print the sign of a number."
   ]
  },
  {
   "cell_type": "code",
   "execution_count": null,
   "metadata": {
    "attributes": {
     "classes": [
      " {.python"
     ],
     "id": ""
    }
   },
   "outputs": [],
   "source": [
    "num = -3\n",
    "\n",
    "if num > 0:\n",
    "    print num, \"is positive\"\n",
    "elif num == 0:\n",
    "    print num, \"is zero\"\n",
    "else:\n",
    "    print num, \"is negative\""
   ]
  },
  {
   "cell_type": "code",
   "execution_count": null,
   "metadata": {
    "attributes": {
     "classes": [
      " {.output"
     ],
     "id": ""
    }
   },
   "outputs": [],
   "source": [
    "\"-3 is negative\""
   ]
  },
  {
   "cell_type": "markdown",
   "metadata": {},
   "source": [
    "One important thing to notice in the code above is that we use a double equals sign `==` to test for equality\n",
    "rather than a single equals sign\n",
    "because the latter is used to mean assignment.\n",
    "\n",
    "We can also combine tests using `and` and `or`.\n",
    "`and` is only true if both parts are true:"
   ]
  },
  {
   "cell_type": "code",
   "execution_count": null,
   "metadata": {
    "attributes": {
     "classes": [
      " {.python"
     ],
     "id": ""
    }
   },
   "outputs": [],
   "source": [
    "if (1 > 0) and (-1 > 0):\n",
    "    print 'both parts are true'\n",
    "else:\n",
    "    print 'one part is not true'"
   ]
  },
  {
   "cell_type": "code",
   "execution_count": null,
   "metadata": {
    "attributes": {
     "classes": [
      " {.output"
     ],
     "id": ""
    }
   },
   "outputs": [],
   "source": [
    "one part is not true"
   ]
  },
  {
   "cell_type": "markdown",
   "metadata": {},
   "source": [
    "while `or` is true if at least one part is true:"
   ]
  },
  {
   "cell_type": "code",
   "execution_count": null,
   "metadata": {
    "attributes": {
     "classes": [
      " {.python"
     ],
     "id": ""
    }
   },
   "outputs": [],
   "source": [
    "if (1 < 0) or (-1 < 0):\n",
    "    print 'at least one test is true'"
   ]
  },
  {
   "cell_type": "code",
   "execution_count": null,
   "metadata": {
    "attributes": {
     "classes": [
      " {.output"
     ],
     "id": ""
    }
   },
   "outputs": [],
   "source": [
    "at least one test is true"
   ]
  },
  {
   "cell_type": "markdown",
   "metadata": {},
   "source": [
    "## Checking our Data\n",
    "\n",
    "Now that we've seen how conditionals work,\n",
    "we can use them to check for the suspicious features we saw in our inflammation data.\n",
    "In the first couple of plots, the maximum inflammation per day\n",
    "seemed to rise like a straight line, one unit per day.\n",
    "We can check for this inside the `for` loop we wrote with the following conditional:"
   ]
  },
  {
   "cell_type": "code",
   "execution_count": null,
   "metadata": {
    "attributes": {
     "classes": [
      " {.python"
     ],
     "id": ""
    }
   },
   "outputs": [],
   "source": [
    "if data.min(axis=0)[0] == 0 and data.max(axis=0)[20] == 20:\n",
    "    print 'Suspicious looking maxima!'"
   ]
  },
  {
   "cell_type": "markdown",
   "metadata": {},
   "source": [
    "We also saw a different problem in the third dataset;\n",
    "the minima per day were all zero (looks like a healthy person snuck into our study).\n",
    "We can also check for this with an `elif` condition:"
   ]
  },
  {
   "cell_type": "code",
   "execution_count": null,
   "metadata": {},
   "outputs": [],
   "source": [
    "elif data.min(axis=0).sum() == 0:\n",
    "    print 'Minima add up to zero!'"
   ]
  },
  {
   "cell_type": "markdown",
   "metadata": {},
   "source": [
    "And if neither of these conditions are true, we can use `else` to give the all-clear:"
   ]
  },
  {
   "cell_type": "code",
   "execution_count": null,
   "metadata": {
    "attributes": {
     "classes": [
      " {.python"
     ],
     "id": ""
    }
   },
   "outputs": [],
   "source": [
    "else:\n",
    "    print 'Seems OK!'"
   ]
  },
  {
   "cell_type": "markdown",
   "metadata": {},
   "source": [
    "Let's test that out:"
   ]
  },
  {
   "cell_type": "code",
   "execution_count": null,
   "metadata": {
    "attributes": {
     "classes": [
      " {.python"
     ],
     "id": ""
    }
   },
   "outputs": [],
   "source": [
    "data = numpy.loadtxt(fname='inflammation-01.csv', delimiter=',')\n",
    "if data.max(axis=0)[0] == 0 and data.max(axis=0)[20] == 20:\n",
    "    print 'Suspicious looking maxima!'\n",
    "elif data.min(axis=0).sum() == 0:\n",
    "    print 'Minima add up to zero!'\n",
    "else:\n",
    "    print 'Seems OK!'"
   ]
  },
  {
   "cell_type": "code",
   "execution_count": null,
   "metadata": {
    "attributes": {
     "classes": [
      " {.output"
     ],
     "id": ""
    }
   },
   "outputs": [],
   "source": [
    "Suspicious looking maxima!"
   ]
  },
  {
   "cell_type": "code",
   "execution_count": null,
   "metadata": {
    "attributes": {
     "classes": [
      " {.python"
     ],
     "id": ""
    }
   },
   "outputs": [],
   "source": [
    "data = numpy.loadtxt(fname='inflammation-03.csv', delimiter=',')\n",
    "if data.max(axis=0)[0] == 0 and data.max(axis=0)[20] == 20:\n",
    "    print 'Suspicious looking maxima!'\n",
    "elif data.min(axis=0).sum() == 0:\n",
    "    print 'Minima add up to zero!'\n",
    "else:\n",
    "    print 'Seems OK!'"
   ]
  },
  {
   "cell_type": "code",
   "execution_count": null,
   "metadata": {
    "attributes": {
     "classes": [
      " {.output"
     ],
     "id": ""
    }
   },
   "outputs": [],
   "source": [
    "Minima add up to zero!"
   ]
  },
  {
   "cell_type": "markdown",
   "metadata": {},
   "source": [
    "In this way,\n",
    "we have asked Python to do something different depending on the condition of our data.\n",
    "Here we printed messages in all cases,\n",
    "but we could also imagine not using the `else` catch-all\n",
    "so that messages are only printed when something is wrong,\n",
    "freeing us from having to manually examine every plot for features we've seen before.\n",
    "\n",
    "> ## How many paths? {.challenge}\n",
    ">\n",
    "> Which of the following would be printed if you were to run this code? Why did you pick this answer?\n",
    ">\n",
    "> 1.  A\n",
    "> 2.  B\n",
    "> 3.  C\n",
    "> 4.  B and C\n",
    ">\n",
    "> ~~~ {.python}\n",
    "> if 4 > 5:\n",
    ">     print 'A'\n",
    "> elif 4 == 5:\n",
    ">     print 'B'\n",
    "> elif 4 < 5:\n",
    ">     print 'C'\n",
    "> ~~~\n",
    "\n",
    "> ## What is truth? {.challenge}\n",
    ">\n",
    "> `True` and `False` are special words in Python called `booleans` which represent true\n",
    "and false statements. However, they aren't the only values in Python that are true and false.\n",
    "> In fact, *any* value can be used in an `if` or `elif`.\n",
    "> After reading and running the code below,\n",
    "> explain what the rule is for which values are considered true and which are considered false.\n",
    "> (Note that if the body of a conditional is a single statement, we can write it on the same line as the `if`.)\n",
    ">\n",
    "> ~~~ {.python}\n",
    "> if '': print 'empty string is true'\n",
    "> if 'word': print 'word is true'\n",
    "> if []: print 'empty list is true'\n",
    "> if [1, 2, 3]: print 'non-empty list is true'\n",
    "> if 0: print 'zero is true'\n",
    "> if 1: print 'one is true'\n",
    "> ~~~\n",
    "\n",
    "> ## Close enough {.challenge}\n",
    ">\n",
    "> Write some conditions that print `True` if the variable `a` is within 10% of the variable `b`\n",
    "> and `False` otherwise.\n",
    "> Compare your implementation with your partner's:\n",
    "> do you get the same answer for all possible pairs of numbers?\n",
    "\n",
    "\n",
    "> ## In-place operators {.challenge}\n",
    ">\n",
    "> Python (and most other languages in the C family) provides [in-place operators](reference.html#in-place-operator)\n",
    "> that work like this:\n",
    ">\n",
    "> ~~~ {.python}\n",
    "> x = 1  # original value\n",
    "> x += 1 # add one to x, assigning result back to x\n",
    "> x *= 3 # multiply x by 3\n",
    "> print x\n",
    "> ~~~\n",
    "> ~~~ {.output}\n",
    "> 6\n",
    "> ~~~\n",
    ">\n",
    "> Write some code that sums the positive and negative numbers in a list separately,\n",
    "> using in-place operators.\n",
    "> Do you think the result is more or less readable than writing the same without in-place operators?\n",
    "\n",
    "> ## Tuples and exchanges {.challenge}\n",
    ">\n",
    "> Explain what the overall effect of this code is:\n",
    ">\n",
    "> ~~~ {.python}\n",
    "> left = 'L'\n",
    "> right = 'R'\n",
    ">\n",
    "> temp = left\n",
    "> left = right\n",
    "> right = temp\n",
    "> ~~~\n",
    ">\n",
    "> Compare it to:\n",
    ">\n",
    "> ~~~ {.python}\n",
    "> left, right = right, left\n",
    "> ~~~\n",
    ">\n",
    "> Do they always do the same thing?\n",
    "> Which do you find easier to read?"
   ]
  }
 ],
 "metadata": {},
 "nbformat": 4,
 "nbformat_minor": 0
}
