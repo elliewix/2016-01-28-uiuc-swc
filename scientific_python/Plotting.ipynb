{
 "cells": [
  {
   "cell_type": "markdown",
   "metadata": {},
   "source": [
    "# Intro to Plotting\n",
    "\n",
    "## Objectives\n",
    "\n",
    "* Plot data from a Pandas DataFrame using Pandas' plotting tools\n",
    "* Use matplotlib to take more control of figures\n",
    "* Understand matplotlib's Figures and Axes\n",
    "* Know some advantages to using seaborn"
   ]
  },
  {
   "cell_type": "markdown",
   "metadata": {},
   "source": [
    "This is a little bit of IPython magic that causes plots to show up inline in the Notebook instead of in a separate window:"
   ]
  },
  {
   "cell_type": "code",
   "execution_count": null,
   "metadata": {
    "collapsed": true
   },
   "outputs": [],
   "source": [
    "%matplotlib inline"
   ]
  },
  {
   "cell_type": "markdown",
   "metadata": {},
   "source": [
    "## Plotting with Pandas\n",
    "\n",
    "Pandas has some convenient routines for making plots straight out from data in DataFrames and Series.\n",
    "\n",
    "We'll use the same data from the Pandas lesson:"
   ]
  },
  {
   "cell_type": "code",
   "execution_count": null,
   "metadata": {
    "collapsed": true
   },
   "outputs": [],
   "source": [
    "import pandas as pd"
   ]
  },
  {
   "cell_type": "code",
   "execution_count": null,
   "metadata": {
    "collapsed": true
   },
   "outputs": [],
   "source": [
    "monthly = pd.read_csv('precip_monthly.csv')"
   ]
  },
  {
   "cell_type": "markdown",
   "metadata": {},
   "source": [
    "Let's start with plot of the mean California rainfall over the years.\n",
    "The first step will be to use groupby ot aggregate the data by year:"
   ]
  },
  {
   "cell_type": "code",
   "execution_count": null,
   "metadata": {
    "collapsed": false
   },
   "outputs": [],
   "source": [
    "yearly = monthly.groupby('year').precip.mean()\n",
    "yearly.head()"
   ]
  },
  {
   "cell_type": "markdown",
   "metadata": {},
   "source": [
    "That gives us a Series, which has a `.plot` method for plotting the index of the Series vs. the values:"
   ]
  },
  {
   "cell_type": "code",
   "execution_count": null,
   "metadata": {
    "collapsed": false
   },
   "outputs": [],
   "source": [
    "yearly.plot()"
   ]
  },
  {
   "cell_type": "markdown",
   "metadata": {},
   "source": [
    "Or we can compare regions and make a bar chart:"
   ]
  },
  {
   "cell_type": "code",
   "execution_count": null,
   "metadata": {
    "collapsed": false
   },
   "outputs": [],
   "source": [
    "regional = monthly.groupby('region').precip.mean()\n",
    "regional"
   ]
  },
  {
   "cell_type": "code",
   "execution_count": null,
   "metadata": {
    "collapsed": false
   },
   "outputs": [],
   "source": [
    "regional.plot(kind='bar')"
   ]
  },
  {
   "cell_type": "markdown",
   "metadata": {},
   "source": [
    "This is a lot easier to read if it's sorted:"
   ]
  },
  {
   "cell_type": "code",
   "execution_count": null,
   "metadata": {
    "collapsed": false
   },
   "outputs": [],
   "source": [
    "regional.sort(inplace=False).plot(kind='bar')"
   ]
  },
  {
   "cell_type": "markdown",
   "metadata": {},
   "source": [
    "(Check this map if you're curous where these different regions are: http://www.oocities.org/watergeographer/hydromap.gif.)"
   ]
  },
  {
   "cell_type": "markdown",
   "metadata": {},
   "source": [
    "If you have a DataFrame of data with the same kind of data in each column you can use the `.plot` method to create plots with different lines (or other styles) for each column.\n",
    "But first we need to make a DataFrame with data laid out in that way.\n",
    "Let's compare average rainfall in each region over time, which requires grouping on year *and* region then calculating the mean:"
   ]
  },
  {
   "cell_type": "code",
   "execution_count": null,
   "metadata": {
    "collapsed": false
   },
   "outputs": [],
   "source": [
    "regional_yearly = monthly.groupby(['year', 'region']).precip.mean()\n",
    "regional_yearly.head(15)"
   ]
  },
  {
   "cell_type": "markdown",
   "metadata": {},
   "source": [
    "`regional_yearly` is a Series with a two-level index (a `MultiIndex`), one for year and one for region.\n",
    "What we're after is a DataFrame with regions as columns and precip values for each region/year in the table.\n",
    "The Series `.unstack()` method can be used to pivot index labels into column labels:"
   ]
  },
  {
   "cell_type": "code",
   "execution_count": null,
   "metadata": {
    "collapsed": false
   },
   "outputs": [],
   "source": [
    "regional_yearly = regional_yearly.unstack(level='region')\n",
    "regional_yearly.head()"
   ]
  },
  {
   "cell_type": "markdown",
   "metadata": {},
   "source": [
    "Now we can use `.plot` to get a different line on the plot for every region:"
   ]
  },
  {
   "cell_type": "code",
   "execution_count": null,
   "metadata": {
    "collapsed": false
   },
   "outputs": [],
   "source": [
    "regional_yearly.plot(kind='line', figsize=(10, 8), colormap='Set3', linewidth=4)"
   ]
  },
  {
   "cell_type": "markdown",
   "metadata": {},
   "source": [
    "That's a lot of lines, though.\n",
    "We can use a box plot to more clearly see regional variation, but it masks the yearly variation (as with a bar chart)."
   ]
  },
  {
   "cell_type": "code",
   "execution_count": null,
   "metadata": {
    "collapsed": false
   },
   "outputs": [],
   "source": [
    "regional_yearly.plot(kind='box', figsize=(10, 8), rot=45)"
   ]
  },
  {
   "cell_type": "markdown",
   "metadata": {},
   "source": [
    "### Exercise 1\n",
    "\n",
    "The `monthly` DataFrame has a `'pct of avg'` column that describes how the amount of measured precipitation compares to the previously recorded average.\n",
    "Use the `'pct of avg'` column to make plots like those above, and feel free to experiment!\n",
    "\n",
    "**Note!** You can't use `.pct of avg` to refer to the `'pct of avg'` column. Use `['pct of avg']` instead."
   ]
  },
  {
   "cell_type": "code",
   "execution_count": null,
   "metadata": {
    "collapsed": false
   },
   "outputs": [],
   "source": []
  },
  {
   "cell_type": "markdown",
   "metadata": {},
   "source": [
    "We'll come back to the `'pct of avg'` plot in a few minutes."
   ]
  },
  {
   "cell_type": "markdown",
   "metadata": {},
   "source": [
    "## matplotlib\n",
    "\n",
    "Pandas is making the above plots using a library called [matplotlib](http://matplotlib.org/).\n",
    "The Pandas `.plot()` method is great for quickly creating plots from data in a DataFrame or Series,\n",
    "but maybe your data is in NumPy arrays or you want more control than Pandas gives you.\n",
    "In those situations you'll likely start working with matplotlib directly."
   ]
  },
  {
   "cell_type": "code",
   "execution_count": null,
   "metadata": {
    "collapsed": true
   },
   "outputs": [],
   "source": [
    "import matplotlib.pyplot as plt\n",
    "import matplotlib.style as style"
   ]
  },
  {
   "cell_type": "markdown",
   "metadata": {
    "collapsed": true
   },
   "source": [
    "Plotting in matplotlib begins with getting something on which to draw.\n",
    "In matplotlib there are two levels of plot containers, axes and figures:\n",
    "\n",
    "- Axes contain plots. Everything we've seen above is an example of a single axes containing one or more plot elements.\n",
    "- Figures contain axes. In the examples so far every figure has contained one axes, but we'll see in a moment how to make a figure containing multiple axes (often referred to as subplots).\n",
    "\n",
    "Let's remake the first `'pct of avg'` plot from above.\n",
    "First we'll need the data."
   ]
  },
  {
   "cell_type": "code",
   "execution_count": null,
   "metadata": {
    "collapsed": false,
    "scrolled": true
   },
   "outputs": [],
   "source": [
    "yearly = monthly.groupby('year')['pct of avg'].mean()\n",
    "yearly.head()"
   ]
  },
  {
   "cell_type": "markdown",
   "metadata": {},
   "source": [
    "The index of the `yearly` Series are the x-values we want, and the values are y.\n",
    "We use the `subplots` function to make figures and axes.\n",
    "Axes have a `.plot` method that takes, among other things, arrays of x and y values to plot:"
   ]
  },
  {
   "cell_type": "code",
   "execution_count": null,
   "metadata": {
    "collapsed": false
   },
   "outputs": [],
   "source": [
    "fig, ax = plt.subplots()\n",
    "ax.plot(yearly.index, yearly)"
   ]
  },
  {
   "cell_type": "markdown",
   "metadata": {},
   "source": [
    "A nice feature of having the figure and axes in variables is that we can continue to modify the plot by adding labels, grids, titles, etc.\n",
    "(After modifying the plot we need to echo the figure variable to get everything to show up again.)"
   ]
  },
  {
   "cell_type": "code",
   "execution_count": null,
   "metadata": {
    "collapsed": false
   },
   "outputs": [],
   "source": [
    "ax.set_xlabel('Year')\n",
    "ax.set_ylabel('Pct of Avg Precip')\n",
    "ax.set_title('California Precipitation Compared to Historical Average')\n",
    "ax.grid(True)\n",
    "fig"
   ]
  },
  {
   "cell_type": "markdown",
   "metadata": {},
   "source": [
    "If you wanted, you could now use the `fig` variable to save this plot to a file."
   ]
  },
  {
   "cell_type": "code",
   "execution_count": null,
   "metadata": {
    "collapsed": true
   },
   "outputs": [],
   "source": [
    "fig.savefig('ca_pct_of_avg.png')"
   ]
  },
  {
   "cell_type": "markdown",
   "metadata": {},
   "source": [
    "### A Note on Style\n",
    "\n",
    "Many people do not like matplotlib's default plot styling.\n",
    "You can change plot styles in a number of ways, but one of the easiest is to select from matplotlib's builtin style sheets: http://matplotlib.org/gallery.html#style_sheets.\n",
    "I like the 'bmh' style, so let's activate that and remake the above plot:"
   ]
  },
  {
   "cell_type": "code",
   "execution_count": null,
   "metadata": {
    "collapsed": false
   },
   "outputs": [],
   "source": [
    "style.available"
   ]
  },
  {
   "cell_type": "code",
   "execution_count": null,
   "metadata": {
    "collapsed": true
   },
   "outputs": [],
   "source": [
    "style.use('bmh')"
   ]
  },
  {
   "cell_type": "code",
   "execution_count": null,
   "metadata": {
    "collapsed": false
   },
   "outputs": [],
   "source": [
    "fig, ax = plt.subplots()\n",
    "ax.plot(yearly.index, yearly)\n",
    "ax.set_xlabel('Year')\n",
    "ax.set_ylabel('Pct of Avg Precip')\n",
    "ax.set_title('California Precipitation Compared to Historical Average')\n",
    "ax.grid(True)"
   ]
  },
  {
   "cell_type": "markdown",
   "metadata": {},
   "source": [
    "That plot style will remain in effect for the rest of the notebook or until we change it to something else."
   ]
  },
  {
   "cell_type": "markdown",
   "metadata": {},
   "source": [
    "### Markers and lines\n",
    "\n",
    "To make it a bit easier to see where the data points are we can add markers to the plot\n",
    "using the `marker` keyword:"
   ]
  },
  {
   "cell_type": "code",
   "execution_count": null,
   "metadata": {
    "collapsed": false
   },
   "outputs": [],
   "source": [
    "fig, ax = plt.subplots()\n",
    "ax.plot(yearly.index, yearly, marker='o')\n",
    "ax.set_xlabel('Year')\n",
    "ax.set_ylabel('Pct of Avg Precip')\n",
    "ax.set_title('California Precipitation Compared to Historical Average')\n",
    "ax.grid(True)"
   ]
  },
  {
   "cell_type": "markdown",
   "metadata": {},
   "source": [
    "We can also change whether the line is solid, dotted, dashed, etc., by setting the linestyle. For example, if we wanted to remove the line entirely:"
   ]
  },
  {
   "cell_type": "code",
   "execution_count": null,
   "metadata": {
    "collapsed": false
   },
   "outputs": [],
   "source": [
    "fig, ax = plt.subplots()\n",
    "ax.plot(yearly.index, yearly, marker='o', linestyle='')\n",
    "ax.set_xlabel('Year')\n",
    "ax.set_ylabel('Pct of Avg Precip')\n",
    "ax.set_title('California Precipitation Compared to Historical Average')\n",
    "ax.grid(True)"
   ]
  },
  {
   "cell_type": "markdown",
   "metadata": {},
   "source": [
    "### subplots\n",
    "\n",
    "The second `'pct of avg'` plot we made with ten lines was a bit much,\n",
    "an alternative is to make a figure with ten subplots, one for each region.\n",
    "To make a figure with ten subplots we again use the `subplots` function,\n",
    "but tell it the number of rows and columns of subplots we want:"
   ]
  },
  {
   "cell_type": "code",
   "execution_count": null,
   "metadata": {
    "collapsed": false
   },
   "outputs": [],
   "source": [
    "fig, axes = plt.subplots(nrows=10, ncols=1, sharex=True, figsize=(10, 15))"
   ]
  },
  {
   "cell_type": "markdown",
   "metadata": {},
   "source": [
    "`axes` is a little different than the `ax` variable we used for the last plot"
   ]
  },
  {
   "cell_type": "code",
   "execution_count": null,
   "metadata": {
    "collapsed": false
   },
   "outputs": [],
   "source": [
    "axes"
   ]
  },
  {
   "cell_type": "markdown",
   "metadata": {},
   "source": [
    "Our strategy this time is loop over all the different subplots and individually create each one.\n",
    "To do that we also need to loop over the data we want to plot. Let's look at `regional_yearly` again:"
   ]
  },
  {
   "cell_type": "code",
   "execution_count": null,
   "metadata": {
    "collapsed": false
   },
   "outputs": [],
   "source": [
    "regional_yearly = monthly.groupby(['year', 'region'])['pct of avg'].mean().unstack(level='region')\n",
    "regional_yearly.head()"
   ]
  },
  {
   "cell_type": "markdown",
   "metadata": {},
   "source": [
    "We can loop over the columns and use each one to make a plot!\n",
    "Since I want to loop over both the columns and the axes I'm going to use Python's\n",
    "[zip](https://docs.python.org/3/library/functions.html#zip) function:"
   ]
  },
  {
   "cell_type": "code",
   "execution_count": null,
   "metadata": {
    "collapsed": false
   },
   "outputs": [],
   "source": [
    "fig, axes = plt.subplots(nrows=10, ncols=1, sharex=True, figsize=(10, 15))\n",
    "for col_name, ax in zip(regional_yearly.columns, axes):\n",
    "    col = regional_yearly[col_name]\n",
    "    ax.plot(col.index, col)"
   ]
  },
  {
   "cell_type": "markdown",
   "metadata": {},
   "source": [
    "So that worked, but we need to include things like axis labels and titles, \n",
    "and it'd be nice all the subplots had the same y-scale.\n",
    "We can take care of all of that in the loop:"
   ]
  },
  {
   "cell_type": "code",
   "execution_count": null,
   "metadata": {
    "collapsed": false
   },
   "outputs": [],
   "source": [
    "fig, axes = plt.subplots(nrows=10, ncols=1, sharex=True, figsize=(10, 15))\n",
    "for col_name, ax in zip(regional_yearly.columns, axes):\n",
    "    col = regional_yearly[col_name]\n",
    "    ax.plot(col.index, col)\n",
    "    ax.set_xlabel('Year')\n",
    "    ax.set_ylabel('pct of avg')\n",
    "    ax.set_ylim(0, 250)\n",
    "    ax.set_title(col_name)"
   ]
  },
  {
   "cell_type": "markdown",
   "metadata": {},
   "source": [
    "Ok, now things have gotten a bit crowded.\n",
    "As a final step we can tell matplotlib to neatly arrange everything using the `.title_layout()` method:"
   ]
  },
  {
   "cell_type": "code",
   "execution_count": null,
   "metadata": {
    "collapsed": false
   },
   "outputs": [],
   "source": [
    "fig.tight_layout()\n",
    "fig"
   ]
  },
  {
   "cell_type": "markdown",
   "metadata": {
    "collapsed": true
   },
   "source": [
    "## seaborn\n",
    "\n",
    "Seaborn is another plotting library, also built on top of matplotlib. Seaborn provides a very nice default style, as well as several functions that make it easy to create beautiful and sophisticated plots.\n",
    "\n",
    "Note: Seaborn offers many more plotting utilities beyond the examples we'll go through here. We recommend checking out their tutorial to see all of the options that Seaborn has to offer!\n",
    "\n",
    "http://stanford.edu/~mwaskom/software/seaborn/tutorial.html\n",
    "\n",
    "First off, just importing Seaborn will change the default style:"
   ]
  },
  {
   "cell_type": "code",
   "execution_count": null,
   "metadata": {
    "collapsed": true
   },
   "outputs": [],
   "source": [
    "import seaborn as sns"
   ]
  },
  {
   "cell_type": "markdown",
   "metadata": {},
   "source": [
    "The style is a bit similar to the bmh style we set earlier, though the colors are a bit different, and there are some other changes (for example, the figure size is larger by default):"
   ]
  },
  {
   "cell_type": "code",
   "execution_count": null,
   "metadata": {
    "collapsed": false
   },
   "outputs": [],
   "source": [
    "yearly.plot()"
   ]
  },
  {
   "cell_type": "code",
   "execution_count": null,
   "metadata": {
    "collapsed": false
   },
   "outputs": [],
   "source": [
    "regional.sort(inplace=False).plot(kind='bar')"
   ]
  },
  {
   "cell_type": "markdown",
   "metadata": {},
   "source": [
    "Seaborn also includes tools to construct sophisticated plots very quickly. For example, recall the box plot that we created earlier:"
   ]
  },
  {
   "cell_type": "code",
   "execution_count": null,
   "metadata": {
    "collapsed": false
   },
   "outputs": [],
   "source": [
    "regional_yearly = monthly.groupby(['year', 'region'])['precip'].mean().unstack('region')\n",
    "regional_yearly.plot(kind='box', figsize=(10, 8), rot=45)"
   ]
  },
  {
   "cell_type": "markdown",
   "metadata": {},
   "source": [
    "Seaborn gives us a method to create a similar type of plot called a \"violin\" plot. This plot provides a little bit more information than a box plot, as it additionally shows the true distribution of the data (not just the median and quantiles). This often has a shape that looks curvy, sometimes like a violin, hence the name.\n",
    "\n",
    "First, we need to convert our data into a form that Seaborn can work with:"
   ]
  },
  {
   "cell_type": "code",
   "execution_count": null,
   "metadata": {
    "collapsed": false
   },
   "outputs": [],
   "source": [
    "# make the columns into an index\n",
    "df = regional_yearly.stack()\n",
    "\n",
    "# convert from Series to DataFrame\n",
    "df = df.to_frame('precip')\n",
    "\n",
    "# turn the index back into columns\n",
    "df = df.reset_index()\n",
    "\n",
    "df.head()"
   ]
  },
  {
   "cell_type": "markdown",
   "metadata": {},
   "source": [
    "Then, to create the violin plot, we tell Seaborn that it should plot the region on the x-axis, precipitation on the y-axis, and that the quartiles should be displayed inside each violin:"
   ]
  },
  {
   "cell_type": "code",
   "execution_count": null,
   "metadata": {
    "collapsed": false,
    "scrolled": false
   },
   "outputs": [],
   "source": [
    "plt.xticks(rotation=45)\n",
    "sns.violinplot(x='region', y='precip', data=df, inner='quartile', linewidth=1)"
   ]
  },
  {
   "cell_type": "markdown",
   "metadata": {},
   "source": [
    "### Grids of subplots"
   ]
  },
  {
   "cell_type": "markdown",
   "metadata": {},
   "source": [
    "Seaborn also provides an easy way to create complex plots like the subplots we had above. We can create this figure using `FacetGrid`, where we specify that each row will correspond to a different region. We then tell the grid to create a plot with `year` on the x-axis and `precip` on the y-axis for each region: "
   ]
  },
  {
   "cell_type": "code",
   "execution_count": null,
   "metadata": {
    "collapsed": false,
    "scrolled": true
   },
   "outputs": [],
   "source": [
    "# Initialize a grid of plots with an Axes for each region\n",
    "grid = sns.FacetGrid(df, row=\"region\", aspect=3)\n",
    "\n",
    "# Draw a line plot to show the trajectory of each random walk\n",
    "grid.map(plt.plot, \"year\", \"precip\")"
   ]
  },
  {
   "cell_type": "markdown",
   "metadata": {},
   "source": [
    "Another type of figure with a grid of subplots is called a \"pair plot\", where the columns of a data frame are plotted against each other. In the case of the precipitation data, we could look at how the average precipitation compares between different regions. "
   ]
  },
  {
   "cell_type": "code",
   "execution_count": null,
   "metadata": {
    "collapsed": false
   },
   "outputs": [],
   "source": [
    "# only use the first few regions\n",
    "cols = regional_yearly.columns[:6]\n",
    "\n",
    "# create the pairplot\n",
    "grid = sns.pairplot(regional_yearly[cols], diag_kind='kde', diag_kws=dict(shade=True))\n",
    "\n",
    "# synchronize the axis limits\n",
    "grid.set(xlim=(0, 6), ylim=(0, 6))"
   ]
  }
 ],
 "metadata": {
  "kernelspec": {
   "display_name": "Python 3",
   "language": "python",
   "name": "python3"
  },
  "language_info": {
   "codemirror_mode": {
    "name": "ipython",
    "version": 3
   },
   "file_extension": ".py",
   "mimetype": "text/x-python",
   "name": "python",
   "nbconvert_exporter": "python",
   "pygments_lexer": "ipython3",
   "version": "3.4.2"
  }
 },
 "nbformat": 4,
 "nbformat_minor": 0
}
